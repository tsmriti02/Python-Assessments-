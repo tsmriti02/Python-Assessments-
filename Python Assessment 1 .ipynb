{
 "cells": [
  {
   "cell_type": "markdown",
   "id": "bd2539ef",
   "metadata": {},
   "source": [
    "# Python Assessment 1 \n"
   ]
  },
  {
   "cell_type": "code",
   "execution_count": 2,
   "id": "9c677e76",
   "metadata": {},
   "outputs": [],
   "source": [
    "'''1. In the below elements which of them are values or an expression? eg:- values can be\n",
    "integer or string and expressions will be mathematical operators.\n",
    "*\n",
    "'hello'\n",
    "-87.8\n",
    "-\n",
    "/\n",
    "+\n",
    "6'''\n",
    "#Solution 1.\n",
    "Value = ('hello', -87.8 , 6)\n",
    "Expressions =('*', '-', '/', '+') "
   ]
  },
  {
   "cell_type": "code",
   "execution_count": 3,
   "id": "62fb1ff3",
   "metadata": {},
   "outputs": [
    {
     "data": {
      "text/plain": [
       "('hello', -87.8, 6)"
      ]
     },
     "execution_count": 3,
     "metadata": {},
     "output_type": "execute_result"
    }
   ],
   "source": [
    "Value"
   ]
  },
  {
   "cell_type": "code",
   "execution_count": 5,
   "id": "3dfb54e0",
   "metadata": {},
   "outputs": [
    {
     "data": {
      "text/plain": [
       "('*', '-', '/', '+')"
      ]
     },
     "execution_count": 5,
     "metadata": {},
     "output_type": "execute_result"
    }
   ],
   "source": [
    "Expressions"
   ]
  },
  {
   "cell_type": "code",
   "execution_count": 8,
   "id": "1feec8b6",
   "metadata": {},
   "outputs": [],
   "source": [
    "'''2. What is the difference between string and variable?'''\n",
    "#Solution 2.\n",
    "String = \"String is a kind of a data type which can store values. Example s = 'Smriti' , t = 'Tiwari'\"\n",
    "Variable = \"Variable is a storage created for any kind of data type. A variable can store a string value. Example a = 'names' , b = 'Surname' \""
   ]
  },
  {
   "cell_type": "code",
   "execution_count": 9,
   "id": "96ae77ae",
   "metadata": {},
   "outputs": [
    {
     "data": {
      "text/plain": [
       "\"String is a kind of a data type which can store values. Example s = 'Smriti' , t = 'Tiwari'\""
      ]
     },
     "execution_count": 9,
     "metadata": {},
     "output_type": "execute_result"
    }
   ],
   "source": [
    "String"
   ]
  },
  {
   "cell_type": "code",
   "execution_count": 10,
   "id": "1835a275",
   "metadata": {},
   "outputs": [
    {
     "data": {
      "text/plain": [
       "\"Variable is a storage created for any kind of data type. A variable can store a string value. Example a = 'names' , b = 'Surname' \""
      ]
     },
     "execution_count": 10,
     "metadata": {},
     "output_type": "execute_result"
    }
   ],
   "source": [
    "Variable"
   ]
  },
  {
   "cell_type": "code",
   "execution_count": 13,
   "id": "42aeb81f",
   "metadata": {},
   "outputs": [],
   "source": [
    "'''3. Describe three different data types.'''\n",
    "#Solution 3. \n",
    "Boolean = 'The boolean value is stored as true(1) or false(0). It is basically Yes or No. For Example is Apple a Fruit - Yes. This data type represents logical values.'\n",
    "Integer = 'Any whole number can be represented by interger type. For example a = 3 , b = 5 '\n",
    "Float = 'Float can store all the decimal values. For example x = 6.32, y = 98.24'"
   ]
  },
  {
   "cell_type": "code",
   "execution_count": 14,
   "id": "b89ba5b8",
   "metadata": {},
   "outputs": [
    {
     "data": {
      "text/plain": [
       "'The boolean value is stored as true(1) or false(0). It is basically Yes or No. For Example is Apple a Fruit - Yes. This data type represents logical values.'"
      ]
     },
     "execution_count": 14,
     "metadata": {},
     "output_type": "execute_result"
    }
   ],
   "source": [
    "Boolean"
   ]
  },
  {
   "cell_type": "code",
   "execution_count": 16,
   "id": "a229df03",
   "metadata": {},
   "outputs": [
    {
     "data": {
      "text/plain": [
       "'Any whole number can be represented by interger type. For example a = 3 , b = 5 '"
      ]
     },
     "execution_count": 16,
     "metadata": {},
     "output_type": "execute_result"
    }
   ],
   "source": [
    "Integer"
   ]
  },
  {
   "cell_type": "code",
   "execution_count": 17,
   "id": "1ab30cfe",
   "metadata": {},
   "outputs": [
    {
     "data": {
      "text/plain": [
       "'Float can store all the decimal values. For example x = 6.32, y = 98.24'"
      ]
     },
     "execution_count": 17,
     "metadata": {},
     "output_type": "execute_result"
    }
   ],
   "source": [
    "Float"
   ]
  },
  {
   "cell_type": "code",
   "execution_count": 22,
   "id": "ab863d39",
   "metadata": {},
   "outputs": [],
   "source": [
    "'''4. What is an expression made up of? What do all expressions do?'''\n",
    "#Solution 4. \n",
    "expression = 'An expression is made up of variable and operators. An expression gives a value. For example a + b = 5, or a = 4 - 8. All expressions represents a value.'\n"
   ]
  },
  {
   "cell_type": "code",
   "execution_count": 23,
   "id": "5914a8df",
   "metadata": {},
   "outputs": [
    {
     "data": {
      "text/plain": [
       "'An expression is made up of variable and operators. An expression gives a value. For example a + b = 5, or a = 4 - 8. All expressions represents a value.'"
      ]
     },
     "execution_count": 23,
     "metadata": {},
     "output_type": "execute_result"
    }
   ],
   "source": [
    "expression"
   ]
  },
  {
   "cell_type": "code",
   "execution_count": 24,
   "id": "605622ae",
   "metadata": {},
   "outputs": [],
   "source": [
    "'''5. This assignment statements, like spam = 10. What is the difference between an\n",
    "expression and a statement?'''\n",
    "#Solution 5.\n",
    "expressionvsstatement = 'Like in the question spam = 10 is a statement, Statement defines a value, there are no operators and operation needed to extract the value from a statement but in an expression a value can be extracted by surther working/solving the experession. For example, a + 4 = 5 is an expresession but a = 1 is a statement'"
   ]
  },
  {
   "cell_type": "code",
   "execution_count": 25,
   "id": "3465bac3",
   "metadata": {},
   "outputs": [
    {
     "data": {
      "text/plain": [
       "'Like in the question spam = 10 is a statement, Statement defines a value, there are no operators and operation needed to extract the value from a statement but in an expression a value can be extracted by surther working/solving the experession. For example, a + 4 = 5 is an expresession but a = 1 is a statement'"
      ]
     },
     "execution_count": 25,
     "metadata": {},
     "output_type": "execute_result"
    }
   ],
   "source": [
    "expressionvsstatement"
   ]
  },
  {
   "cell_type": "code",
   "execution_count": 43,
   "id": "60744277",
   "metadata": {},
   "outputs": [],
   "source": [
    "'''6. After running the following code, what does the variable bacon contain?\n",
    "bacon = 22\n",
    "bacon + 1'''\n",
    "#Solution 6. \n",
    "Sol6 = '23 as bacon is a interger and adding 1 to it will increase the value of this interger by 1, as concadination is possible in intergers. as shown below'"
   ]
  },
  {
   "cell_type": "code",
   "execution_count": 44,
   "id": "e62eea2f",
   "metadata": {},
   "outputs": [
    {
     "data": {
      "text/plain": [
       "'23 as bacon is a interger and adding 1 to it will increase the value of this interger by 1, as concadination is possible in intergers. as shown below'"
      ]
     },
     "execution_count": 44,
     "metadata": {},
     "output_type": "execute_result"
    }
   ],
   "source": [
    "Sol6"
   ]
  },
  {
   "cell_type": "code",
   "execution_count": 31,
   "id": "f79e8b71",
   "metadata": {},
   "outputs": [],
   "source": [
    "bacon = 22"
   ]
  },
  {
   "cell_type": "code",
   "execution_count": 32,
   "id": "40ca705b",
   "metadata": {},
   "outputs": [
    {
     "data": {
      "text/plain": [
       "23"
      ]
     },
     "execution_count": 32,
     "metadata": {},
     "output_type": "execute_result"
    }
   ],
   "source": [
    "bacon + 1 "
   ]
  },
  {
   "cell_type": "code",
   "execution_count": 41,
   "id": "800939b6",
   "metadata": {},
   "outputs": [],
   "source": [
    "'''7. What should the values of the following two terms be? \n",
    "'spam' + 'spamspam'\n",
    "'spam' * 3'''\n",
    "#Solution 7.\n",
    "Spam = \"Both 'spam' + 'spamspam' and 'spam' * 3 will give the same result, 'spamspamspam' as shown below\""
   ]
  },
  {
   "cell_type": "code",
   "execution_count": 42,
   "id": "675bd70d",
   "metadata": {},
   "outputs": [
    {
     "data": {
      "text/plain": [
       "\"Both 'spam' + 'spamspam' and 'spam' * 3 will give the same result, 'spamspamspam' as shown below\""
      ]
     },
     "execution_count": 42,
     "metadata": {},
     "output_type": "execute_result"
    }
   ],
   "source": [
    "Spam"
   ]
  },
  {
   "cell_type": "code",
   "execution_count": 39,
   "id": "88f597ef",
   "metadata": {},
   "outputs": [
    {
     "data": {
      "text/plain": [
       "'spamspamspam'"
      ]
     },
     "execution_count": 39,
     "metadata": {},
     "output_type": "execute_result"
    }
   ],
   "source": [
    "'spam' + 'spamspam'"
   ]
  },
  {
   "cell_type": "code",
   "execution_count": 40,
   "id": "f1c62b5f",
   "metadata": {},
   "outputs": [
    {
     "data": {
      "text/plain": [
       "'spamspamspam'"
      ]
     },
     "execution_count": 40,
     "metadata": {},
     "output_type": "execute_result"
    }
   ],
   "source": [
    "'spam' * 3"
   ]
  },
  {
   "cell_type": "code",
   "execution_count": 45,
   "id": "a4117047",
   "metadata": {},
   "outputs": [],
   "source": [
    "'''8. Why is eggs a valid variable name while 100 is invalid?'''\n",
    "#Solution 8\n",
    "variablename = ' Eggs can be a vailable name but not 100 as any variable name cannot start with a number. A number can be added in the middle or end of the name but not in the begining. that will give an error. Example below '"
   ]
  },
  {
   "cell_type": "code",
   "execution_count": 47,
   "id": "5444e771",
   "metadata": {},
   "outputs": [
    {
     "data": {
      "text/plain": [
       "' Eggs can be a vailable name but not 100 as any variable name cannot start with a number. A number can be added in the middle or end of the name but not in the begining. that will give an error. Example below '"
      ]
     },
     "execution_count": 47,
     "metadata": {},
     "output_type": "execute_result"
    }
   ],
   "source": [
    "variablename"
   ]
  },
  {
   "cell_type": "code",
   "execution_count": 48,
   "id": "68c2ec38",
   "metadata": {},
   "outputs": [],
   "source": [
    "eggs = 100"
   ]
  },
  {
   "cell_type": "code",
   "execution_count": 49,
   "id": "cff12b29",
   "metadata": {},
   "outputs": [
    {
     "data": {
      "text/plain": [
       "100"
      ]
     },
     "execution_count": 49,
     "metadata": {},
     "output_type": "execute_result"
    }
   ],
   "source": [
    "eggs"
   ]
  },
  {
   "cell_type": "code",
   "execution_count": 50,
   "id": "f6134895",
   "metadata": {},
   "outputs": [
    {
     "ename": "SyntaxError",
     "evalue": "can't assign to literal (1986374539.py, line 1)",
     "output_type": "error",
     "traceback": [
      "\u001b[0;36m  File \u001b[0;32m\"/var/folders/mz/ffjbxkgd5_z1tjn06k60vw9w0000gn/T/ipykernel_52327/1986374539.py\"\u001b[0;36m, line \u001b[0;32m1\u001b[0m\n\u001b[0;31m    100='eggs'\u001b[0m\n\u001b[0m              ^\u001b[0m\n\u001b[0;31mSyntaxError\u001b[0m\u001b[0;31m:\u001b[0m can't assign to literal\n"
     ]
    }
   ],
   "source": [
    "100='eggs'"
   ]
  },
  {
   "cell_type": "code",
   "execution_count": 54,
   "id": "63e1fcfc",
   "metadata": {},
   "outputs": [],
   "source": [
    "'''9. What three functions can be used to get the integer, floating-point number, or string\n",
    "version of a value?'''\n",
    "#Solution 9.\n",
    "function = \" Function for interger = int(), floating point = float(), and string = str()\""
   ]
  },
  {
   "cell_type": "code",
   "execution_count": 55,
   "id": "57b12e77",
   "metadata": {},
   "outputs": [
    {
     "data": {
      "text/plain": [
       "' Function for interger = int(), floating point = float(), and string = str()'"
      ]
     },
     "execution_count": 55,
     "metadata": {},
     "output_type": "execute_result"
    }
   ],
   "source": [
    "function"
   ]
  },
  {
   "cell_type": "code",
   "execution_count": 61,
   "id": "cbdb988f",
   "metadata": {},
   "outputs": [],
   "source": [
    "'''10. Why does this expression cause an error? How can you fix it?\n",
    "'I have eaten' + 99 + 'burritos.'\n",
    "'''\n",
    "#Solution 10. \n",
    "Sol10 = 'This expression is giving error as string and integer concadination is not possible. The solution to correct this expression is making 99 a string. As shown below'"
   ]
  },
  {
   "cell_type": "code",
   "execution_count": 60,
   "id": "38095a9b",
   "metadata": {},
   "outputs": [
    {
     "data": {
      "text/plain": [
       "'I have eaten 99 burritos.'"
      ]
     },
     "execution_count": 60,
     "metadata": {},
     "output_type": "execute_result"
    }
   ],
   "source": [
    "'I have eaten' + ' 99 ' + 'burritos.'"
   ]
  },
  {
   "cell_type": "code",
   "execution_count": null,
   "id": "c2a0ac5e",
   "metadata": {},
   "outputs": [],
   "source": []
  }
 ],
 "metadata": {
  "kernelspec": {
   "display_name": "Python 3.7.8 64-bit",
   "language": "python",
   "name": "python378jvsc74a57bd0aee8b7b246df8f9039afb4144a1f6fd8d2ca17a180786b69acc140d282b71a49"
  },
  "language_info": {
   "codemirror_mode": {
    "name": "ipython",
    "version": 3
   },
   "file_extension": ".py",
   "mimetype": "text/x-python",
   "name": "python",
   "nbconvert_exporter": "python",
   "pygments_lexer": "ipython3",
   "version": "3.7.8"
  }
 },
 "nbformat": 4,
 "nbformat_minor": 5
}
