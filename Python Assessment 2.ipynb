{
 "cells": [
  {
   "cell_type": "markdown",
   "id": "c61e9a0e",
   "metadata": {},
   "source": [
    "# Python Assessment 2 "
   ]
  },
  {
   "cell_type": "code",
   "execution_count": 1,
   "id": "7e6fc414",
   "metadata": {},
   "outputs": [],
   "source": [
    "'''1.What are the two values of the Boolean data type? How do you write them?'''\n",
    "#Solution 1. \n",
    "Boolean = 'Boolean Data type can only have 2 values - True(1) and False(2). It is represented as bool().'"
   ]
  },
  {
   "cell_type": "code",
   "execution_count": 2,
   "id": "0c9bc937",
   "metadata": {},
   "outputs": [
    {
     "data": {
      "text/plain": [
       "'Boolean Data type can only have 2 values - True(1) and False(2). It is represented as bool().'"
      ]
     },
     "execution_count": 2,
     "metadata": {},
     "output_type": "execute_result"
    }
   ],
   "source": [
    "Boolean"
   ]
  },
  {
   "cell_type": "code",
   "execution_count": 3,
   "id": "39301e9f",
   "metadata": {},
   "outputs": [],
   "source": [
    "'''2. What are the three different types of Boolean operators?'''\n",
    "#Solution 2.\n",
    "booloperators =' Three types of boolean operators are AND, OR, NOT. AND considers all the terms, OR does it for some values and NOT eliminated the ones not in the value.'"
   ]
  },
  {
   "cell_type": "code",
   "execution_count": 4,
   "id": "76fed67a",
   "metadata": {},
   "outputs": [
    {
     "data": {
      "text/plain": [
       "' Three types of boolean operators are AND, OR, NOT. AND considers all the terms, OR does it for some values and NOT eliminated the ones not in the value.'"
      ]
     },
     "execution_count": 4,
     "metadata": {},
     "output_type": "execute_result"
    }
   ],
   "source": [
    "booloperators"
   ]
  },
  {
   "cell_type": "code",
   "execution_count": 13,
   "id": "45d50677",
   "metadata": {},
   "outputs": [
    {
     "data": {
      "text/plain": [
       "\"'False = 0 = F\\nTrue = 1 = T\\nOR Operator\\n0 0 = 0  F F = F\\n0 1 = 1  F T = T\\n1 0 = 1  T F = T\\n1 1 = 1  T T = T \\nAND Operator\\n0 0 = 0  F F = F\\n0 1 = 0  F T = F\\n1 0 = 0  T F = F\\n1 1 = 1  T T = T \\nNOT Operator\\n!0 = 1 !F = T\\n!1 = 0 !T = F \""
      ]
     },
     "execution_count": 13,
     "metadata": {},
     "output_type": "execute_result"
    }
   ],
   "source": [
    "'''3. Make a list of each Boolean operator's truth tables (i.e. every possible combination of Boolean\n",
    "values for the operator and what it evaluate ).'''\n",
    "\n",
    "#Solution 2.\n",
    "''''False = 0 = F\n",
    "True = 1 = T\n",
    "OR Operator\n",
    "0 0 = 0  F F = F\n",
    "0 1 = 1  F T = T\n",
    "1 0 = 1  T F = T\n",
    "1 1 = 1  T T = T \n",
    "AND Operator\n",
    "0 0 = 0  F F = F\n",
    "0 1 = 0  F T = F\n",
    "1 0 = 0  T F = F\n",
    "1 1 = 1  T T = T \n",
    "NOT Operator\n",
    "!0 = 1 !F = T\n",
    "!1 = 0 !T = F '''"
   ]
  },
  {
   "cell_type": "code",
   "execution_count": 14,
   "id": "59525387",
   "metadata": {},
   "outputs": [
    {
     "data": {
      "text/plain": [
       "'4. What are the values of the following expressions?\\n(5 > 4) and (3 == 5)\\nnot (5 > 4)\\n(5 > 4) or (3 == 5)\\nnot ((5 > 4) or (3 == 5))\\n(True and True) and (True == False)\\n(not False) or (not True)'"
      ]
     },
     "execution_count": 14,
     "metadata": {},
     "output_type": "execute_result"
    }
   ],
   "source": [
    "'''4. What are the values of the following expressions?\n",
    "(5 > 4) and (3 == 5)\n",
    "not (5 > 4)\n",
    "(5 > 4) or (3 == 5)\n",
    "not ((5 > 4) or (3 == 5))\n",
    "(True and True) and (True == False)\n",
    "(not False) or (not True)'''\n",
    "#Solution 4."
   ]
  },
  {
   "cell_type": "code",
   "execution_count": 15,
   "id": "420db6ca",
   "metadata": {},
   "outputs": [
    {
     "data": {
      "text/plain": [
       "False"
      ]
     },
     "execution_count": 15,
     "metadata": {},
     "output_type": "execute_result"
    }
   ],
   "source": [
    "(5 > 4) and (3 == 5)"
   ]
  },
  {
   "cell_type": "code",
   "execution_count": 16,
   "id": "a82ea14d",
   "metadata": {},
   "outputs": [
    {
     "data": {
      "text/plain": [
       "False"
      ]
     },
     "execution_count": 16,
     "metadata": {},
     "output_type": "execute_result"
    }
   ],
   "source": [
    "not (5 > 4)"
   ]
  },
  {
   "cell_type": "code",
   "execution_count": 17,
   "id": "b8e426b4",
   "metadata": {},
   "outputs": [
    {
     "data": {
      "text/plain": [
       "True"
      ]
     },
     "execution_count": 17,
     "metadata": {},
     "output_type": "execute_result"
    }
   ],
   "source": [
    "(5 > 4) or (3 == 5)"
   ]
  },
  {
   "cell_type": "code",
   "execution_count": 18,
   "id": "d638030d",
   "metadata": {},
   "outputs": [
    {
     "data": {
      "text/plain": [
       "False"
      ]
     },
     "execution_count": 18,
     "metadata": {},
     "output_type": "execute_result"
    }
   ],
   "source": [
    "not ((5 > 4) or (3 == 5))"
   ]
  },
  {
   "cell_type": "code",
   "execution_count": 19,
   "id": "643452ac",
   "metadata": {},
   "outputs": [
    {
     "data": {
      "text/plain": [
       "False"
      ]
     },
     "execution_count": 19,
     "metadata": {},
     "output_type": "execute_result"
    }
   ],
   "source": [
    "(True and True) and (True == False)"
   ]
  },
  {
   "cell_type": "code",
   "execution_count": 20,
   "id": "60351f31",
   "metadata": {},
   "outputs": [
    {
     "data": {
      "text/plain": [
       "True"
      ]
     },
     "execution_count": 20,
     "metadata": {},
     "output_type": "execute_result"
    }
   ],
   "source": [
    "(not False) or (not True)"
   ]
  },
  {
   "cell_type": "code",
   "execution_count": 22,
   "id": "cef67ada",
   "metadata": {},
   "outputs": [],
   "source": [
    "'''5. What are the six comparison operators?'''\n",
    "#Solution 5.\n",
    "comparisonoperators = {'less than' : \"<\", 'more than' : \">\", 'equal to' : \"==\", 'less than equla to' : \"<=\", 'more than equal to' : \">=\", 'not equal to' : '!='}"
   ]
  },
  {
   "cell_type": "code",
   "execution_count": 23,
   "id": "c3a067f5",
   "metadata": {},
   "outputs": [
    {
     "data": {
      "text/plain": [
       "{'less than': '<',\n",
       " 'more than': '>',\n",
       " 'equal to': '==',\n",
       " 'less than equla to': '<=',\n",
       " 'more than equal to': '>=',\n",
       " 'not equal to': '!='}"
      ]
     },
     "execution_count": 23,
     "metadata": {},
     "output_type": "execute_result"
    }
   ],
   "source": [
    "comparisonoperators"
   ]
  },
  {
   "cell_type": "code",
   "execution_count": 24,
   "id": "40e76efd",
   "metadata": {},
   "outputs": [],
   "source": [
    "'''6. How do you tell the difference between the equal to and assignment operators?Describe a\n",
    "condition and when you would use one.'''\n",
    "#Solution 6.\n",
    "a = \"equal to is an comparison operator denoted as '==' which compares the values, whereas an assignment operator assigns the value and is denoted as '='. For example a = b +5 , here '=' is used to assign the value of a. x == 5 and y == 7 here '==' is used to compare the value of x and y with the number. The uses are shown below.\"  "
   ]
  },
  {
   "cell_type": "code",
   "execution_count": 25,
   "id": "2fc5bc84",
   "metadata": {},
   "outputs": [
    {
     "data": {
      "text/plain": [
       "\"equal to is an comparison operator denoted as '==' which compares the values, whereas an assignment operator assigns the value and is denoted as '='. For example a = b +5 , here '=' is used to assign the value of a. x == 5 and y == 7 here '==' is used to compare the value of x and y with the number. The uses are shown below.\""
      ]
     },
     "execution_count": 25,
     "metadata": {},
     "output_type": "execute_result"
    }
   ],
   "source": [
    "a"
   ]
  },
  {
   "cell_type": "code",
   "execution_count": 27,
   "id": "0ecad51e",
   "metadata": {},
   "outputs": [
    {
     "name": "stdout",
     "output_type": "stream",
     "text": [
      "40\n"
     ]
    }
   ],
   "source": [
    "x = 15\n",
    "y = 25\n",
    "if x == 15 and y == 25 :\n",
    "    print(y + x )\n",
    "#Here '=' is used or value assignment and '==' is used for comparision."
   ]
  },
  {
   "cell_type": "code",
   "execution_count": 28,
   "id": "b8e1ff3a",
   "metadata": {},
   "outputs": [
    {
     "name": "stdout",
     "output_type": "stream",
     "text": [
      "ham\n",
      "spam\n",
      "spam\n"
     ]
    }
   ],
   "source": [
    "'''7. Identify the three blocks in this code:\n",
    "spam = 0\n",
    "if spam == 10:\n",
    "print('eggs')\n",
    "if spam > 5:\n",
    "print('bacon')\n",
    "else:\n",
    "print('ham')\n",
    "print('spam')\n",
    "print('spam')'''\n",
    "\n",
    "#Solution 7. 3 Blocks\n",
    "spam = 0\n",
    "if spam == 10:\n",
    "    print('eggs')\n",
    "if spam > 5:\n",
    "    print('bacon')\n",
    "else:\n",
    "    print('ham')\n",
    "    print('spam')\n",
    "    print('spam')"
   ]
  },
  {
   "cell_type": "code",
   "execution_count": 30,
   "id": "6656b8b7",
   "metadata": {},
   "outputs": [
    {
     "name": "stdout",
     "output_type": "stream",
     "text": [
      "Write a natural number 1\n",
      "Hello\n"
     ]
    }
   ],
   "source": [
    "'''8. Write code that prints Hello if 1 is stored in spam, prints Howdy if 2 is stored in spam, and prints\n",
    "Greetings! if anything else is stored in spam.'''\n",
    "#Solution 8.\n",
    "\n",
    "spam = int(input('Write a natural number '))\n",
    "if spam == 1 :\n",
    "    print('Hello')\n",
    "elif spam == 2:\n",
    "    print('Howdy')\n",
    "else :\n",
    "    print('Greetings!')"
   ]
  },
  {
   "cell_type": "code",
   "execution_count": 31,
   "id": "ad304a1c",
   "metadata": {},
   "outputs": [
    {
     "name": "stdout",
     "output_type": "stream",
     "text": [
      "Write a natural number 2\n",
      "Howdy\n"
     ]
    }
   ],
   "source": [
    "spam = int(input('Write a natural number '))\n",
    "if spam == 1 :\n",
    "    print('Hello')\n",
    "elif spam == 2:\n",
    "    print('Howdy')\n",
    "else :\n",
    "    print('Greetings!')"
   ]
  },
  {
   "cell_type": "code",
   "execution_count": 32,
   "id": "f0f9da28",
   "metadata": {},
   "outputs": [
    {
     "name": "stdout",
     "output_type": "stream",
     "text": [
      "Write a natural number 10\n",
      "Greetings!\n"
     ]
    }
   ],
   "source": [
    "spam = int(input('Write a natural number '))\n",
    "if spam == 1 :\n",
    "    print('Hello')\n",
    "elif spam == 2:\n",
    "    print('Howdy')\n",
    "else :\n",
    "    print('Greetings!')"
   ]
  },
  {
   "cell_type": "code",
   "execution_count": 33,
   "id": "b6b57501",
   "metadata": {},
   "outputs": [],
   "source": [
    "'''9.If your programme is stuck in an endless loop, what keys you’ll press?'''\n",
    "#Solution 9.\n",
    "endlessloop ='To exit out of infinite loops on the command line, press CTRL + C. One can also BREAK the the loop as it is an inbuilt function.'"
   ]
  },
  {
   "cell_type": "code",
   "execution_count": 34,
   "id": "c98e916e",
   "metadata": {},
   "outputs": [
    {
     "data": {
      "text/plain": [
       "'To exit out of infinite loops on the command line, press CTRL + C. One can also BREAK the the loop as it is an inbuilt function.'"
      ]
     },
     "execution_count": 34,
     "metadata": {},
     "output_type": "execute_result"
    }
   ],
   "source": [
    "endlessloop"
   ]
  },
  {
   "cell_type": "code",
   "execution_count": 37,
   "id": "38532103",
   "metadata": {},
   "outputs": [],
   "source": [
    "'''10. How can you tell the difference between break and continue?'''\n",
    "#Solution 10. \n",
    "Break = 'Break is used to terminate the executed loop. It stops the iteration.'\n",
    "Continue = 'Continue is used to skip the current iteration and execute the next one in the loop.'"
   ]
  },
  {
   "cell_type": "code",
   "execution_count": 41,
   "id": "b2b94614",
   "metadata": {},
   "outputs": [
    {
     "name": "stdout",
     "output_type": "stream",
     "text": [
      "0\n",
      "1\n",
      "2\n",
      "3\n",
      "4\n",
      "5\n",
      "6\n",
      "7\n",
      "8\n",
      "9\n",
      "case 1\n",
      "0\n",
      "1\n",
      "2\n",
      "3\n",
      "4\n",
      "5\n",
      "6\n",
      "7\n",
      "8\n",
      "9\n",
      "case 2\n",
      "0\n",
      "1\n",
      "2\n",
      "3\n",
      "4\n",
      "5\n",
      "6\n",
      "7\n",
      "8\n",
      "9\n"
     ]
    }
   ],
   "source": [
    "'''11. In a for loop, what is the difference between range(10), range(0, 10), and range(0, 10, 1)?'''\n",
    "#Solution 11.\n",
    "for i in range(10):\n",
    "    print(i)\n",
    "print(\"case 1\") \n",
    "for i in range(0,10):\n",
    "    print(i)\n",
    "print(\"case 2\")\n",
    "for i in range(0,10,1):\n",
    "    print(i)"
   ]
  },
  {
   "cell_type": "code",
   "execution_count": 42,
   "id": "3d8d58b4",
   "metadata": {},
   "outputs": [
    {
     "name": "stdout",
     "output_type": "stream",
     "text": [
      "For Loop\n",
      "1\n",
      "2\n",
      "3\n",
      "4\n",
      "5\n",
      "6\n",
      "7\n",
      "8\n",
      "9\n",
      "10\n",
      "While Loop\n",
      "1\n",
      "2\n",
      "3\n",
      "4\n",
      "5\n",
      "6\n",
      "7\n",
      "8\n",
      "9\n",
      "10\n"
     ]
    }
   ],
   "source": [
    "'''12. Write a short program that prints the numbers 1 to 10 using a for loop. Then write an equivalent\n",
    "program that prints the numbers 1 to 10 using a while loop.'''\n",
    "#Solution 12. \n",
    "#Use of For Loop\n",
    "print(\"For Loop\")\n",
    "for i in range(1,11):\n",
    "    print(i)\n",
    "#Use of While Loop\n",
    "print(\"While Loop\")\n",
    "a =1\n",
    "while a <= 10:\n",
    "    print(a)\n",
    "    a+=1"
   ]
  },
  {
   "cell_type": "code",
   "execution_count": null,
   "id": "7a9f55bd",
   "metadata": {},
   "outputs": [],
   "source": [
    "'''13. If you had a function named bacon() inside a module named spam, how would you call it after\n",
    "importing spam?'''\n",
    "#Solution 13. This function can be called with spam.bacon()"
   ]
  }
 ],
 "metadata": {
  "kernelspec": {
   "display_name": "Python 3",
   "language": "python",
   "name": "python3"
  },
  "language_info": {
   "codemirror_mode": {
    "name": "ipython",
    "version": 3
   },
   "file_extension": ".py",
   "mimetype": "text/x-python",
   "name": "python",
   "nbconvert_exporter": "python",
   "pygments_lexer": "ipython3",
   "version": "3.8.8"
  }
 },
 "nbformat": 4,
 "nbformat_minor": 5
}
